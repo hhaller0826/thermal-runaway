{
 "cells": [
  {
   "cell_type": "code",
   "execution_count": 1,
   "metadata": {},
   "outputs": [
    {
     "name": "stderr",
     "output_type": "stream",
     "text": [
      "/Users/Hanita/Library/Python/3.12/lib/python/site-packages/tqdm/auto.py:21: TqdmWarning: IProgress not found. Please update jupyter and ipywidgets. See https://ipywidgets.readthedocs.io/en/stable/user_install.html\n",
      "  from .autonotebook import tqdm as notebook_tqdm\n",
      "Processing Center for Advanced Life Cycle Engineering cells: 100%|██████████| 7/7 [00:01<00:00,  4.11it/s]\n"
     ]
    },
    {
     "name": "stdout",
     "output_type": "stream",
     "text": [
      "0 processed, 7 skipped\n",
      "\n"
     ]
    },
    {
     "name": "stderr",
     "output_type": "stream",
     "text": [
      "Processing Hawaii Natural Energy Institute cells: 100%|██████████| 15/15 [00:03<00:00,  3.80it/s]\n"
     ]
    },
    {
     "name": "stdout",
     "output_type": "stream",
     "text": [
      "0 processed, 15 skipped\n",
      "\n"
     ]
    },
    {
     "name": "stderr",
     "output_type": "stream",
     "text": [
      "Processing Oxford cells: 100%|██████████| 8/8 [00:01<00:00,  5.32it/s]\n"
     ]
    },
    {
     "name": "stdout",
     "output_type": "stream",
     "text": [
      "8 processed, 0 skipped\n",
      "\n"
     ]
    },
    {
     "name": "stderr",
     "output_type": "stream",
     "text": [
      "Processing Oak Ridge National Lab cells: 100%|██████████| 253/253 [01:20<00:00,  3.15it/s]\n"
     ]
    },
    {
     "name": "stdout",
     "output_type": "stream",
     "text": [
      "230 processed, 23 skipped\n",
      "\n"
     ]
    },
    {
     "name": "stderr",
     "output_type": "stream",
     "text": [
      "Processing Sandia National Lab cells: 100%|██████████| 30/30 [00:06<00:00,  4.42it/s]\n",
      "Processing Sandia National Lab cells: 100%|██████████| 24/24 [00:02<00:00, 11.14it/s]\n",
      "Processing Sandia National Lab cells: 100%|██████████| 32/32 [00:04<00:00,  7.25it/s]\n"
     ]
    },
    {
     "name": "stdout",
     "output_type": "stream",
     "text": [
      "74 processed, 12 skipped\n",
      "\n"
     ]
    },
    {
     "name": "stderr",
     "output_type": "stream",
     "text": [
      "Processing Underwriters Lab - Purdue University cells: 100%|██████████| 22/22 [00:03<00:00,  7.03it/s]"
     ]
    },
    {
     "name": "stdout",
     "output_type": "stream",
     "text": [
      "21 processed, 1 skipped\n",
      "\n"
     ]
    },
    {
     "name": "stderr",
     "output_type": "stream",
     "text": [
      "\n"
     ]
    }
   ],
   "source": [
    "from src.runner import preprocess\n",
    "preprocess()"
   ]
  },
  {
   "cell_type": "code",
   "execution_count": 7,
   "metadata": {},
   "outputs": [
    {
     "name": "stdout",
     "output_type": "stream",
     "text": [
      "**************description of battery cell OX_1-1_pouch_LCO_40C_0-100_2-1.84C_a_timeseries**************\n",
      "cell_id: OX_1-1_pouch_LCO_40C_0-100_2-1.84C_a_timeseries\n",
      "organization: oxford\n",
      "timeseries_data: [<src.preprocessing.battery_data.TimeseriesData object at 0x33426fdd0>]\n",
      "is_healthy: True\n",
      "anode_material: graphite\n",
      "cathode_material: LCO\n",
      "nominal_capacity_in_Ah: 0.72\n",
      "form_factor: pouch\n"
     ]
    },
    {
     "data": {
      "text/html": [
       "<div>\n",
       "<style scoped>\n",
       "    .dataframe tbody tr th:only-of-type {\n",
       "        vertical-align: middle;\n",
       "    }\n",
       "\n",
       "    .dataframe tbody tr th {\n",
       "        vertical-align: top;\n",
       "    }\n",
       "\n",
       "    .dataframe thead th {\n",
       "        text-align: right;\n",
       "    }\n",
       "</style>\n",
       "<table border=\"1\" class=\"dataframe\">\n",
       "  <thead>\n",
       "    <tr style=\"text-align: right;\">\n",
       "      <th></th>\n",
       "      <th>Time (s)</th>\n",
       "      <th>Temp (°C)</th>\n",
       "    </tr>\n",
       "  </thead>\n",
       "  <tbody>\n",
       "    <tr>\n",
       "      <th>0</th>\n",
       "      <td>0.000000e+00</td>\n",
       "      <td>40.026</td>\n",
       "    </tr>\n",
       "    <tr>\n",
       "      <th>1</th>\n",
       "      <td>9.990000e-01</td>\n",
       "      <td>40.051</td>\n",
       "    </tr>\n",
       "    <tr>\n",
       "      <th>2</th>\n",
       "      <td>1.999000e+00</td>\n",
       "      <td>39.988</td>\n",
       "    </tr>\n",
       "    <tr>\n",
       "      <th>3</th>\n",
       "      <td>2.999000e+00</td>\n",
       "      <td>39.976</td>\n",
       "    </tr>\n",
       "    <tr>\n",
       "      <th>4</th>\n",
       "      <td>3.999000e+00</td>\n",
       "      <td>39.964</td>\n",
       "    </tr>\n",
       "    <tr>\n",
       "      <th>...</th>\n",
       "      <td>...</td>\n",
       "      <td>...</td>\n",
       "    </tr>\n",
       "    <tr>\n",
       "      <th>460376</th>\n",
       "      <td>5.518128e+07</td>\n",
       "      <td>40.737</td>\n",
       "    </tr>\n",
       "    <tr>\n",
       "      <th>460377</th>\n",
       "      <td>5.518128e+07</td>\n",
       "      <td>40.750</td>\n",
       "    </tr>\n",
       "    <tr>\n",
       "      <th>460378</th>\n",
       "      <td>5.518128e+07</td>\n",
       "      <td>40.688</td>\n",
       "    </tr>\n",
       "    <tr>\n",
       "      <th>460379</th>\n",
       "      <td>5.518128e+07</td>\n",
       "      <td>40.725</td>\n",
       "    </tr>\n",
       "    <tr>\n",
       "      <th>460380</th>\n",
       "      <td>5.518128e+07</td>\n",
       "      <td>40.750</td>\n",
       "    </tr>\n",
       "  </tbody>\n",
       "</table>\n",
       "<p>460381 rows × 2 columns</p>\n",
       "</div>"
      ],
      "text/plain": [
       "            Time (s)  Temp (°C)\n",
       "0       0.000000e+00     40.026\n",
       "1       9.990000e-01     40.051\n",
       "2       1.999000e+00     39.988\n",
       "3       2.999000e+00     39.976\n",
       "4       3.999000e+00     39.964\n",
       "...              ...        ...\n",
       "460376  5.518128e+07     40.737\n",
       "460377  5.518128e+07     40.750\n",
       "460378  5.518128e+07     40.688\n",
       "460379  5.518128e+07     40.725\n",
       "460380  5.518128e+07     40.750\n",
       "\n",
       "[460381 rows x 2 columns]"
      ]
     },
     "execution_count": 7,
     "metadata": {},
     "output_type": "execute_result"
    }
   ],
   "source": [
    "from src.data.battery_data import BatteryData\n",
    "oxford_data = BatteryData.load('data/preprocessed/oxford/OX_1-1_pouch_LCO_40C_0-100_2-1.84C_a_timeseries.pkl')\n",
    "oxford_data.print_description()\n",
    "ts = next(t for t in oxford_data.timeseries_data)\n",
    "ts.display()"
   ]
  },
  {
   "cell_type": "code",
   "execution_count": 8,
   "metadata": {},
   "outputs": [
    {
     "name": "stdout",
     "output_type": "stream",
     "text": [
      "**************description of battery cell SNL_LFP_Graphite_10Ah_100SOC_b**************\n",
      "cell_id: SNL_LFP_Graphite_10Ah_100SOC_b\n",
      "organization: snl\n",
      "timeseries_data: [<src.preprocessing.battery_data.TimeseriesData object at 0x1766e6120>, <src.preprocessing.battery_data.TimeseriesData object at 0x33427c200>, <src.preprocessing.battery_data.TimeseriesData object at 0x33427ca10>, <src.preprocessing.battery_data.TimeseriesData object at 0x33427fef0>, <src.preprocessing.battery_data.TimeseriesData object at 0x33427d880>, <src.preprocessing.battery_data.TimeseriesData object at 0x33427fd10>]\n",
      "is_healthy: False\n",
      "state_of_charge: 100\n",
      "battery_type: (None,)\n",
      "anode_material: graphite\n",
      "cathode_material: LFP\n",
      "nominal_capacity_in_Ah: 10.0\n",
      "form_factor: cylindrical_18650\n"
     ]
    },
    {
     "data": {
      "text/html": [
       "<div>\n",
       "<style scoped>\n",
       "    .dataframe tbody tr th:only-of-type {\n",
       "        vertical-align: middle;\n",
       "    }\n",
       "\n",
       "    .dataframe tbody tr th {\n",
       "        vertical-align: top;\n",
       "    }\n",
       "\n",
       "    .dataframe thead th {\n",
       "        text-align: right;\n",
       "    }\n",
       "</style>\n",
       "<table border=\"1\" class=\"dataframe\">\n",
       "  <thead>\n",
       "    <tr style=\"text-align: right;\">\n",
       "      <th></th>\n",
       "      <th>Time (s)</th>\n",
       "      <th>Temp (°C)</th>\n",
       "    </tr>\n",
       "  </thead>\n",
       "  <tbody>\n",
       "    <tr>\n",
       "      <th>0</th>\n",
       "      <td>0.000000</td>\n",
       "      <td>22.364101</td>\n",
       "    </tr>\n",
       "    <tr>\n",
       "      <th>1</th>\n",
       "      <td>0.099609</td>\n",
       "      <td>22.358707</td>\n",
       "    </tr>\n",
       "    <tr>\n",
       "      <th>2</th>\n",
       "      <td>0.199219</td>\n",
       "      <td>22.365358</td>\n",
       "    </tr>\n",
       "    <tr>\n",
       "      <th>3</th>\n",
       "      <td>0.298828</td>\n",
       "      <td>22.381090</td>\n",
       "    </tr>\n",
       "    <tr>\n",
       "      <th>4</th>\n",
       "      <td>0.398438</td>\n",
       "      <td>22.315783</td>\n",
       "    </tr>\n",
       "    <tr>\n",
       "      <th>...</th>\n",
       "      <td>...</td>\n",
       "      <td>...</td>\n",
       "    </tr>\n",
       "    <tr>\n",
       "      <th>38712</th>\n",
       "      <td>3856.078125</td>\n",
       "      <td>29.106949</td>\n",
       "    </tr>\n",
       "    <tr>\n",
       "      <th>38713</th>\n",
       "      <td>3856.177734</td>\n",
       "      <td>29.090010</td>\n",
       "    </tr>\n",
       "    <tr>\n",
       "      <th>38714</th>\n",
       "      <td>3856.277344</td>\n",
       "      <td>29.108253</td>\n",
       "    </tr>\n",
       "    <tr>\n",
       "      <th>38715</th>\n",
       "      <td>3856.376953</td>\n",
       "      <td>29.104151</td>\n",
       "    </tr>\n",
       "    <tr>\n",
       "      <th>38716</th>\n",
       "      <td>3856.465820</td>\n",
       "      <td>29.110058</td>\n",
       "    </tr>\n",
       "  </tbody>\n",
       "</table>\n",
       "<p>38717 rows × 2 columns</p>\n",
       "</div>"
      ],
      "text/plain": [
       "          Time (s)  Temp (°C)\n",
       "0         0.000000  22.364101\n",
       "1         0.099609  22.358707\n",
       "2         0.199219  22.365358\n",
       "3         0.298828  22.381090\n",
       "4         0.398438  22.315783\n",
       "...            ...        ...\n",
       "38712  3856.078125  29.106949\n",
       "38713  3856.177734  29.090010\n",
       "38714  3856.277344  29.108253\n",
       "38715  3856.376953  29.104151\n",
       "38716  3856.465820  29.110058\n",
       "\n",
       "[38717 rows x 2 columns]"
      ]
     },
     "execution_count": 8,
     "metadata": {},
     "output_type": "execute_result"
    }
   ],
   "source": [
    "from src.data.battery_data import BatteryData\n",
    "filename = 'data/preprocessed/oakridge/SNL_LFP_Graphite_10Ah_100SOC_b.pkl'\n",
    "data = BatteryData.load(filename)\n",
    "data.print_description()\n",
    "ts = next(t for t in data.timeseries_data)\n",
    "ts.display()"
   ]
  },
  {
   "cell_type": "code",
   "execution_count": 13,
   "metadata": {},
   "outputs": [
    {
     "data": {
      "text/plain": [
       "(230, 55, 175)"
      ]
     },
     "execution_count": 13,
     "metadata": {},
     "output_type": "execute_result"
    }
   ],
   "source": [
    "from pathlib import Path \n",
    "dir = Path(f'data/preprocessed/oakridge/')\n",
    "cells = set(\n",
    "    f.stem.split()[0]\n",
    "    for f in dir.glob('*SNL_*')\n",
    "    if f.is_file()\n",
    ")\n",
    "\n",
    "cells2 = set(\n",
    "    f.stem.split()[0]\n",
    "    for f in dir.glob('*')\n",
    "    if f.is_file()\n",
    ")\n",
    "\n",
    "len(cells2), len(cells), len(cells2) - len(cells)"
   ]
  },
  {
   "cell_type": "code",
   "execution_count": 6,
   "metadata": {},
   "outputs": [
    {
     "name": "stdout",
     "output_type": "stream",
     "text": [
      "data/preprocessed/data/preprocessed/SNL_18650_NCA_25C_20-80_0.5-0.5C_a_timeseries.pkl\n",
      "data/preprocessed/data/preprocessed/SNL_NMC-LMO_Graphite_26Ah_30SOC_b.pkl\n",
      "data/preprocessed/data/preprocessed/SNL_LMO-LNO_Graphite_33Ah_50SOC_a.pkl\n",
      "data/preprocessed/data/preprocessed/SNL_LFP_Graphite_10Ah_50SOC_a.pkl\n",
      "data/preprocessed/data/preprocessed/SNL_LCO_Graphite_6.4Ah_70SOC_b.pkl\n",
      "data/preprocessed/data/preprocessed/SNL_LFP_Graphite_10Ah_100SOC_b.pkl\n",
      "data/preprocessed/data/preprocessed/SNL_18650_NCA_35C_0-100_0.5-1C_b_timeseries.pkl\n",
      "data/preprocessed/data/preprocessed/SNL_NMC_Graphite_10Ah_70SOC_a.pkl\n",
      "data/preprocessed/data/preprocessed/SNL_18650_NMC_25C_0-100_0.5-1C_b_timeseries.pkl\n",
      "data/preprocessed/data/preprocessed/SNL_NMC-LMO_Graphite_26Ah_30SOC_a.pkl\n",
      "data/preprocessed/data/preprocessed/SNL_18650_NMC_15C_0-100_0.5-2C_b_timeseries.pkl\n",
      "data/preprocessed/data/preprocessed/SNL_LMO-LNO_Graphite_33Ah_50SOC_b.pkl\n",
      "data/preprocessed/data/preprocessed/SNL_18650_NMC_25C_20-80_0.5-0.5C_a_timeseries.pkl\n",
      "data/preprocessed/data/preprocessed/SNL_LFP_Graphite_10Ah_50SOC_b.pkl\n",
      "data/preprocessed/data/preprocessed/SNL_LCO_Graphite_6.4Ah_70SOC_a.pkl\n",
      "data/preprocessed/data/preprocessed/SNL_18650_LFP_25C_40-60_0.5-3C_a_timeseries.pkl\n",
      "data/preprocessed/data/preprocessed/SNL_LFP_Graphite_10Ah_100SOC_a.pkl\n",
      "data/preprocessed/data/preprocessed/SNL_18650_NMC_25C_0-100_0.5-3C_a_timeseries.pkl\n",
      "data/preprocessed/data/preprocessed/SNL_NMC_Graphite_10Ah_70SOC_b.pkl\n",
      "data/preprocessed/data/preprocessed/SNL_NMC_Graphite_10Ah_0SOC_a.pkl\n",
      "data/preprocessed/data/preprocessed/SNL_18650_NCA_35C_0-100_0.5-2C_a_timeseries.pkl\n",
      "data/preprocessed/data/preprocessed/SNL_NMC_Graphite_10Ah_100SOC_b.pkl\n",
      "data/preprocessed/data/preprocessed/SNL_NMC-LMO_Graphite_26Ah_50SOC_c.pkl\n",
      "data/preprocessed/data/preprocessed/SNL_LCO_Graphite_6.4Ah_100SOC_a.pkl\n",
      "data/preprocessed/data/preprocessed/SNL_18650_NMC_25C_0-100_0.5-1C_c_timeseries.pkl\n",
      "data/preprocessed/data/preprocessed/SNL_NMC-LMO_Graphite_26Ah_50SOC_b.pkl\n",
      "data/preprocessed/data/preprocessed/SNL_LMO-LNO_Graphite_33Ah_30SOC_a.pkl\n",
      "data/preprocessed/data/preprocessed/SNL_NMC_Graphite_10Ah_0SOC_b.pkl\n",
      "data/preprocessed/data/preprocessed/SNL_NMC_Graphite_10Ah_100SOC_a.pkl\n",
      "data/preprocessed/data/preprocessed/SNL_18650_LFP_25C_20-80_0.5-3C_a_timeseries.pkl\n",
      "data/preprocessed/data/preprocessed/SNL_18650_NMC_25C_0-100_0.5-1C_d_timeseries.pkl\n",
      "data/preprocessed/data/preprocessed/SNL_LCO_Graphite_6.4Ah_100SOC_b.pkl\n",
      "data/preprocessed/data/preprocessed/SNL_18650_LFP_25C_40-60_0.5-0.5C_b_timeseries.pkl\n",
      "data/preprocessed/data/preprocessed/SNL_NMC-LMO_Graphite_26Ah_50SOC_a.pkl\n",
      "data/preprocessed/data/preprocessed/SNL_18650_NMC_25C_0-100_0.5-2C_a_timeseries.pkl\n",
      "data/preprocessed/data/preprocessed/SNL_LMO-LNO_Graphite_33Ah_30SOC_b.pkl\n",
      "data/preprocessed/data/preprocessed/SNL_18650_NMC_15C_0-100_0.5-1C_a_timeseries.pkl\n",
      "data/preprocessed/data/preprocessed/SNL_NMC_Graphite_10Ah_0SOC_c.pkl\n",
      "data/preprocessed/data/preprocessed/SNL_18650_NCA_35C_0-100_0.5-1C_a_timeseries.pkl\n",
      "data/preprocessed/data/preprocessed/SNL_LFP_Graphite_10Ah_90SOC_b.pkl\n",
      "data/preprocessed/data/preprocessed/SNL_18650_NCA_25C_20-80_0.5-0.5C_b_timeseries.pkl\n",
      "data/preprocessed/data/preprocessed/SNL_LMO-LNO_Graphite_33Ah_75SOC_b.pkl\n",
      "data/preprocessed/data/preprocessed/SNL_LMO-LNO_Graphite_33Ah_100SOC_b.pkl\n",
      "data/preprocessed/data/preprocessed/SNL_18650_NMC_25C_0-100_0.5-3C_b_timeseries.pkl\n",
      "data/preprocessed/data/preprocessed/SNL_LFP_Graphite_10Ah_90SOC_a.pkl\n",
      "data/preprocessed/data/preprocessed/SNL_18650_LFP_25C_40-60_0.5-3C_b_timeseries.pkl\n",
      "data/preprocessed/data/preprocessed/SNL_18650_NMC_25C_20-80_0.5-0.5C_b_timeseries.pkl\n",
      "data/preprocessed/data/preprocessed/SNL_18650_NMC_25C_0-100_0.5-1C_a_timeseries.pkl\n",
      "data/preprocessed/data/preprocessed/SNL_18650_NMC_15C_0-100_0.5-2C_a_timeseries.pkl\n",
      "data/preprocessed/data/preprocessed/SNL_LMO-LNO_Graphite_33Ah_75SOC_a.pkl\n",
      "data/preprocessed/data/preprocessed/SNL_LMO-LNO_Graphite_33Ah_100SOC_a.pkl\n",
      "data/preprocessed/data/preprocessed/SNL_18650_NMC_25C_20-80_0.5-0.5C_c_timeseries.pkl\n",
      "data/preprocessed/data/preprocessed/SNL_NMC-LMO_Graphite_26Ah_75SOC_a.pkl\n",
      "data/preprocessed/data/preprocessed/SNL_18650_NCA_25C_20-80_0.5-0.5C_d_timeseries.pkl\n",
      "data/preprocessed/data/preprocessed/SNL_18650_LFP_25C_0-100_0.5-0.5C_a_timeseries.pkl\n",
      "data/preprocessed/data/preprocessed/SNL_18650_NMC_25C_0-100_0.5-3C_c_timeseries.pkl\n",
      "data/preprocessed/data/preprocessed/SNL_NMC-LMO_Graphite_26Ah_100SOC_a.pkl\n",
      "data/preprocessed/data/preprocessed/SNL_18650_NCA_35C_0-100_0.5-2C_b_timeseries.pkl\n",
      "data/preprocessed/data/preprocessed/SNL_NMC-LMO_Graphite_26Ah_90SOC_a.pkl\n",
      "data/preprocessed/data/preprocessed/SNL_NMC-LMO_Graphite_26Ah_90SOC_c.pkl\n",
      "data/preprocessed/data/preprocessed/SNL_18650_NMC_25C_0-100_0.5-2C_b_timeseries.pkl\n",
      "data/preprocessed/data/preprocessed/SNL_NMC-LMO_Graphite_26Ah_75SOC_b.pkl\n",
      "data/preprocessed/data/preprocessed/SNL_18650_NMC_25C_20-80_0.5-0.5C_d_timeseries.pkl\n",
      "data/preprocessed/data/preprocessed/SNL_18650_NMC_15C_0-100_0.5-1C_b_timeseries.pkl\n",
      "data/preprocessed/data/preprocessed/SNL_18650_LFP_25C_40-60_0.5-0.5C_a_timeseries.pkl\n",
      "data/preprocessed/data/preprocessed/SNL_18650_NCA_25C_20-80_0.5-0.5C_c_timeseries.pkl\n",
      "data/preprocessed/data/preprocessed/SNL_18650_NMC_25C_0-100_0.5-3C_d_timeseries.pkl\n",
      "data/preprocessed/data/preprocessed/SNL_NMC-LMO_Graphite_26Ah_100SOC_b.pkl\n",
      "data/preprocessed/data/preprocessed/SNL_NMC-LMO_Graphite_26Ah_90SOC_b.pkl\n",
      "data/preprocessed/data/preprocessed/SNL_LCO_Graphite_6.4Ah_50SOC_b.pkl\n",
      "data/preprocessed/data/preprocessed/SNL_18650_LFP_25C_0-100_0.5-3C_d_timeseries.pkl\n",
      "data/preprocessed/data/preprocessed/SNL_NMC_Graphite_10Ah_50SOC_a.pkl\n",
      "data/preprocessed/data/preprocessed/SNL_18650_LFP_25C_20-80_0.5-0.5C_b_timeseries.pkl\n",
      "data/preprocessed/data/preprocessed/SNL_18650_NMC_25C_20-80_0.5-3C_b_timeseries.pkl\n",
      "data/preprocessed/data/preprocessed/SNL_18650_LFP_15C_0-100_0.5-1C_b_timeseries.pkl\n",
      "data/preprocessed/data/preprocessed/SNL_LFP_Graphite_10Ah_70SOC_a.pkl\n",
      "data/preprocessed/data/preprocessed/SNL_LCO_Graphite_6.4Ah_50SOC_a.pkl\n",
      "data/preprocessed/data/preprocessed/SNL_18650_LFP_25C_0-100_0.5-3C_c_timeseries.pkl\n",
      "data/preprocessed/data/preprocessed/SNL_NMC_Graphite_10Ah_50SOC_b.pkl\n",
      "data/preprocessed/data/preprocessed/SNL_NMC_Graphite_10Ah_50SOC_c.pkl\n",
      "data/preprocessed/data/preprocessed/SNL_18650_NCA_15C_0-100_0.5-2C_a_timeseries.pkl\n",
      "data/preprocessed/data/preprocessed/SNL_18650_NCA_25C_0-100_0.5-1C_a_timeseries.pkl\n",
      "data/preprocessed/data/preprocessed/SNL_LFP_Graphite_10Ah_70SOC_b.pkl\n",
      "data/preprocessed/data/preprocessed/SNL_18650_NCA_25C_0-100_0.5-0.5C_a_timeseries.pkl\n",
      "data/preprocessed/data/preprocessed/SNL_18650_LFP_15C_0-100_0.5-2C_a_timeseries.pkl\n",
      "data/preprocessed/data/preprocessed/SNL_18650_LFP_25C_20-80_0.5-0.5C_d_timeseries.pkl\n",
      "data/preprocessed/data/preprocessed/SNL_18650_LFP_25C_0-100_0.5-1C_a_timeseries.pkl\n",
      "data/preprocessed/data/preprocessed/SNL_18650_NMC_25C_40-60_0.5-0.5C_a_timeseries.pkl\n",
      "data/preprocessed/data/preprocessed/SNL_LCO_Graphite_6.4Ah_0SOC_b.pkl\n",
      "data/preprocessed/data/preprocessed/SNL_18650_NMC_25C_40-60_0.5-3C_b_timeseries.pkl\n",
      "data/preprocessed/data/preprocessed/SNL_18650_LFP_25C_0-100_0.5-3C_b_timeseries.pkl\n",
      "data/preprocessed/data/preprocessed/SNL_18650_NMC_35C_0-100_0.5-2C_b_timeseries.pkl\n",
      "data/preprocessed/data/preprocessed/SNL_18650_NCA_15C_0-100_0.5-1C_b_timeseries.pkl\n",
      "data/preprocessed/data/preprocessed/SNL_18650_LFP_25C_20-80_0.5-0.5C_c_timeseries.pkl\n",
      "data/preprocessed/data/preprocessed/SNL_18650_NCA_25C_40-60_0.5-0.5C_a_timeseries.pkl\n",
      "data/preprocessed/data/preprocessed/SNL_18650_NCA_25C_0-100_0.5-2C_b_timeseries.pkl\n",
      "data/preprocessed/data/preprocessed/SNL_18650_NMC_25C_0-100_0.5-0.5C_a_timeseries.pkl\n",
      "data/preprocessed/data/preprocessed/SNL_LCO_Graphite_6.4Ah_0SOC_a.pkl\n",
      "data/preprocessed/data/preprocessed/SNL_18650_LFP_15C_0-100_0.5-1C_a_timeseries.pkl\n",
      "data/preprocessed/data/preprocessed/SNL_18650_LFP_25C_0-100_0.5-2C_a_timeseries.pkl\n",
      "data/preprocessed/data/preprocessed/SNL_NMC_Graphite_10Ah_90SOC_b.pkl\n",
      "data/preprocessed/data/preprocessed/SNL_LCO_Graphite_6.4Ah_90SOC_a.pkl\n",
      "data/preprocessed/data/preprocessed/SNL_18650_LFP_25C_20-80_0.5-0.5C_a_timeseries.pkl\n",
      "data/preprocessed/data/preprocessed/SNL_18650_NMC_25C_20-80_0.5-3C_a_timeseries.pkl\n",
      "data/preprocessed/data/preprocessed/SNL_18650_LFP_25C_0-100_0.5-1C_d_timeseries.pkl\n",
      "data/preprocessed/data/preprocessed/SNL_LFP_Graphite_10Ah_0SOC_a.pkl\n",
      "data/preprocessed/data/preprocessed/SNL_18650_NMC_35C_0-100_0.5-1C_b_timeseries.pkl\n",
      "data/preprocessed/data/preprocessed/SNL_18650_NCA_15C_0-100_0.5-2C_b_timeseries.pkl\n",
      "data/preprocessed/data/preprocessed/SNL_NMC_Graphite_10Ah_90SOC_a.pkl\n",
      "data/preprocessed/data/preprocessed/SNL_18650_NCA_25C_0-100_0.5-1C_b_timeseries.pkl\n",
      "data/preprocessed/data/preprocessed/SNL_18650_LFP_25C_0-100_0.5-1C_c_timeseries.pkl\n",
      "data/preprocessed/data/preprocessed/SNL_LCO_Graphite_6.4Ah_90SOC_b.pkl\n",
      "data/preprocessed/data/preprocessed/SNL_LFP_Graphite_10Ah_0SOC_b.pkl\n",
      "data/preprocessed/data/preprocessed/SNL_18650_LFP_25C_0-100_0.5-3C_a_timeseries.pkl\n",
      "data/preprocessed/data/preprocessed/SNL_18650_NMC_35C_0-100_0.5-2C_a_timeseries.pkl\n",
      "data/preprocessed/data/preprocessed/SNL_18650_NMC_25C_40-60_0.5-3C_a_timeseries.pkl\n",
      "data/preprocessed/data/preprocessed/SNL_NMC-LMO_Graphite_26Ah_85SOC_b.pkl\n",
      "data/preprocessed/data/preprocessed/SNL_18650_NMC_25C_40-60_0.5-0.5C_b_timeseries.pkl\n",
      "data/preprocessed/data/preprocessed/SNL_18650_NCA_25C_0-100_0.5-1C_c_timeseries.pkl\n",
      "data/preprocessed/data/preprocessed/SNL_18650_NCA_25C_0-100_0.5-0.5C_b_timeseries.pkl\n",
      "data/preprocessed/data/preprocessed/SNL_18650_LFP_15C_0-100_0.5-2C_b_timeseries.pkl\n",
      "data/preprocessed/data/preprocessed/SNL_18650_LFP_25C_0-100_0.5-1C_b_timeseries.pkl\n",
      "data/preprocessed/data/preprocessed/SNL_LMO-LNO_Graphite_33Ah_50SOC_b-copy.pkl\n",
      "data/preprocessed/data/preprocessed/SNL_NMC-LMO_Graphite_26Ah_85SOC_a.pkl\n",
      "data/preprocessed/data/preprocessed/SNL_18650_NCA_25C_0-100_0.5-1C_d_timeseries.pkl\n",
      "data/preprocessed/data/preprocessed/SNL_18650_NMC_25C_0-100_0.5-0.5C_b_timeseries.pkl\n",
      "data/preprocessed/data/preprocessed/SNL_18650_NCA_15C_0-100_0.5-1C_a_timeseries.pkl\n",
      "data/preprocessed/data/preprocessed/SNL_18650_NCA_25C_0-100_0.5-2C_a_timeseries.pkl\n",
      "data/preprocessed/data/preprocessed/SNL_18650_NCA_25C_40-60_0.5-0.5C_b_timeseries.pkl\n"
     ]
    }
   ],
   "source": [
    "from sklearn.model_selection import train_test_split\n",
    "from src.data.battery_data import BatteryData, TimeseriesData\n",
    "from pathlib import Path\n",
    "from src.config import config\n",
    "from glob import glob \n",
    "import os\n",
    "\n",
    "\n",
    "filters = [\n",
    "    'org',\n",
    "    'description contains punch'\n",
    "\n",
    "    'soc, battery type, anode, cathode, ah, form factor'\n",
    "]\n",
    "\n",
    "def hkh_traintestsplit(preprocessed_dir = config.PROCESSED_DATA_DIR, orgs_to_include = None, timeseries_filter = None):\n",
    "    ''\n",
    "    # data = BatteryData.load(filename)\n",
    "    parentdir = Path(preprocessed_dir)\n",
    "    # for f in parentdir.glob('*SNL*'): print(f)\n",
    "\n",
    "    features, labels = [], []\n",
    "    for filename in glob(os.path.join(preprocessed_dir, '*SNL*')):\n",
    "        filepath = os.path.join(preprocessed_dir, filename)\n",
    "        cell = BatteryData.load(filepath)\n",
    "        if orgs_to_include != None and cell.organization not in orgs_to_include:\n",
    "            continue \n",
    "\n",
    "        X_temp, y_temp = extract_attributes_from_cell(cell, timeseries_filter=timeseries_filter)\n",
    "        features.append(X_temp)\n",
    "        labels.append(y_temp)\n",
    "        print(filepath)\n",
    "\n",
    "    X_train, X_test, y_train, y_test = train_test_split(features, labels, test_size=0.2, random_state=42)\n",
    "    return X_train, X_test, y_train, y_test\n",
    "\n",
    "    \n",
    "\n",
    "\n",
    "\n",
    "def extract_attributes_from_cell(cell: BatteryData, orgs_to_include = None, timeseries_filter = None):\n",
    "    \"\"\"Return a list of feature, label objects\"\"\"\n",
    "    # if orgs_to_include != None and cell.organization not in orgs_to_include:\n",
    "    #     return None, None \n",
    "    \n",
    "    features = []\n",
    "    for data in cell.timeseries_data:\n",
    "        if timeseries_filter != None and any(term in data.description for term in timeseries_filter):\n",
    "            continue \n",
    "        \n",
    "        features.append(data.to_df())\n",
    "        \n",
    "    return features, [cell.is_healthy] * len(features)\n",
    "\n",
    "filename = 'data/preprocessed/SNL_LFP_Graphite_10Ah_100SOC_b.pkl'    \n",
    "cell = BatteryData.load(filename)\n",
    "# extract_attributes_from_cell(cell, timeseries_filter=['punch'])\n",
    "hkh_traintestsplit()\n"
   ]
  },
  {
   "cell_type": "code",
   "execution_count": 14,
   "metadata": {},
   "outputs": [
    {
     "data": {
      "text/plain": [
       "[True, True, True, True, True]"
      ]
     },
     "execution_count": 14,
     "metadata": {},
     "output_type": "execute_result"
    }
   ],
   "source": [
    "[True] * 5"
   ]
  }
 ],
 "metadata": {
  "kernelspec": {
   "display_name": "Python 3",
   "language": "python",
   "name": "python3"
  },
  "language_info": {
   "codemirror_mode": {
    "name": "ipython",
    "version": 3
   },
   "file_extension": ".py",
   "mimetype": "text/x-python",
   "name": "python",
   "nbconvert_exporter": "python",
   "pygments_lexer": "ipython3",
   "version": "3.12.6"
  }
 },
 "nbformat": 4,
 "nbformat_minor": 2
}

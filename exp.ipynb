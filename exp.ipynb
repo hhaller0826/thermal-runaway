{
 "cells": [
  {
   "cell_type": "code",
   "execution_count": 1,
   "metadata": {},
   "outputs": [
    {
     "name": "stderr",
     "output_type": "stream",
     "text": [
      "/Users/Hanita/Library/Python/3.12/lib/python/site-packages/tqdm/auto.py:21: TqdmWarning: IProgress not found. Please update jupyter and ipywidgets. See https://ipywidgets.readthedocs.io/en/stable/user_install.html\n",
      "  from .autonotebook import tqdm as notebook_tqdm\n",
      "Processing Center for Advanced Life Cycle Engineering cells: 100%|██████████| 7/7 [00:01<00:00,  3.86it/s]\n"
     ]
    },
    {
     "name": "stdout",
     "output_type": "stream",
     "text": [
      "0 processed, 7 skipped\n",
      "\n"
     ]
    },
    {
     "name": "stderr",
     "output_type": "stream",
     "text": [
      "Processing Hawaii Natural Energy Institute cells: 100%|██████████| 15/15 [00:04<00:00,  3.71it/s]\n"
     ]
    },
    {
     "name": "stdout",
     "output_type": "stream",
     "text": [
      "0 processed, 15 skipped\n",
      "\n"
     ]
    },
    {
     "name": "stderr",
     "output_type": "stream",
     "text": [
      "Processing Oxford cells: 100%|██████████| 8/8 [00:00<00:00, 20725.41it/s]\n"
     ]
    },
    {
     "name": "stdout",
     "output_type": "stream",
     "text": [
      "0 processed, 8 skipped\n",
      "\n"
     ]
    },
    {
     "name": "stderr",
     "output_type": "stream",
     "text": [
      "Processing Oak Ridge National Lab cells: 100%|██████████| 253/253 [00:01<00:00, 146.72it/s]\n"
     ]
    },
    {
     "name": "stdout",
     "output_type": "stream",
     "text": [
      "0 processed, 253 skipped\n",
      "\n"
     ]
    },
    {
     "name": "stderr",
     "output_type": "stream",
     "text": [
      "Processing Sandia National Lab cells: 100%|██████████| 30/30 [00:01<00:00, 21.76it/s]\n",
      "Processing Sandia National Lab cells: 100%|██████████| 24/24 [00:00<00:00, 264.87it/s]\n",
      "Processing Sandia National Lab cells: 100%|██████████| 32/32 [00:00<00:00, 186.15it/s]\n"
     ]
    },
    {
     "name": "stdout",
     "output_type": "stream",
     "text": [
      "0 processed, 86 skipped\n",
      "\n"
     ]
    },
    {
     "name": "stderr",
     "output_type": "stream",
     "text": [
      "Processing Underwriters Lab - Purdue University cells: 100%|██████████| 22/22 [00:01<00:00, 11.82it/s]"
     ]
    },
    {
     "name": "stdout",
     "output_type": "stream",
     "text": [
      "0 processed, 22 skipped\n",
      "\n"
     ]
    },
    {
     "name": "stderr",
     "output_type": "stream",
     "text": [
      "\n"
     ]
    }
   ],
   "source": [
    "from src.runner import preprocess\n",
    "preprocess()"
   ]
  },
  {
   "cell_type": "code",
   "execution_count": 2,
   "metadata": {},
   "outputs": [
    {
     "name": "stdout",
     "output_type": "stream",
     "text": [
      "**************description of battery cell OX_1-1_pouch_LCO_40C_0-100_2-1.84C_a_timeseries**************\n",
      "cell_id: OX_1-1_pouch_LCO_40C_0-100_2-1.84C_a_timeseries\n",
      "organization: oxford\n",
      "timeseries_data: [<src.preprocessing.battery_data.TimeseriesData object at 0x337a0c290>]\n",
      "is_healthy: True\n",
      "battery_type: LCO\n",
      "anode_material: graphite\n",
      "cathode_material: LCO\n",
      "nominal_capacity_in_Ah: 0.72\n",
      "form_factor: pouch\n"
     ]
    },
    {
     "data": {
      "text/html": [
       "<div>\n",
       "<style scoped>\n",
       "    .dataframe tbody tr th:only-of-type {\n",
       "        vertical-align: middle;\n",
       "    }\n",
       "\n",
       "    .dataframe tbody tr th {\n",
       "        vertical-align: top;\n",
       "    }\n",
       "\n",
       "    .dataframe thead th {\n",
       "        text-align: right;\n",
       "    }\n",
       "</style>\n",
       "<table border=\"1\" class=\"dataframe\">\n",
       "  <thead>\n",
       "    <tr style=\"text-align: right;\">\n",
       "      <th></th>\n",
       "      <th>Time (s)</th>\n",
       "      <th>Temp (°C)</th>\n",
       "    </tr>\n",
       "  </thead>\n",
       "  <tbody>\n",
       "    <tr>\n",
       "      <th>0</th>\n",
       "      <td>0.000000e+00</td>\n",
       "      <td>40.026</td>\n",
       "    </tr>\n",
       "    <tr>\n",
       "      <th>1</th>\n",
       "      <td>9.990000e-01</td>\n",
       "      <td>40.051</td>\n",
       "    </tr>\n",
       "    <tr>\n",
       "      <th>2</th>\n",
       "      <td>1.999000e+00</td>\n",
       "      <td>39.988</td>\n",
       "    </tr>\n",
       "    <tr>\n",
       "      <th>3</th>\n",
       "      <td>2.999000e+00</td>\n",
       "      <td>39.976</td>\n",
       "    </tr>\n",
       "    <tr>\n",
       "      <th>4</th>\n",
       "      <td>3.999000e+00</td>\n",
       "      <td>39.964</td>\n",
       "    </tr>\n",
       "    <tr>\n",
       "      <th>...</th>\n",
       "      <td>...</td>\n",
       "      <td>...</td>\n",
       "    </tr>\n",
       "    <tr>\n",
       "      <th>460376</th>\n",
       "      <td>5.518128e+07</td>\n",
       "      <td>40.737</td>\n",
       "    </tr>\n",
       "    <tr>\n",
       "      <th>460377</th>\n",
       "      <td>5.518128e+07</td>\n",
       "      <td>40.750</td>\n",
       "    </tr>\n",
       "    <tr>\n",
       "      <th>460378</th>\n",
       "      <td>5.518128e+07</td>\n",
       "      <td>40.688</td>\n",
       "    </tr>\n",
       "    <tr>\n",
       "      <th>460379</th>\n",
       "      <td>5.518128e+07</td>\n",
       "      <td>40.725</td>\n",
       "    </tr>\n",
       "    <tr>\n",
       "      <th>460380</th>\n",
       "      <td>5.518128e+07</td>\n",
       "      <td>40.750</td>\n",
       "    </tr>\n",
       "  </tbody>\n",
       "</table>\n",
       "<p>460381 rows × 2 columns</p>\n",
       "</div>"
      ],
      "text/plain": [
       "            Time (s)  Temp (°C)\n",
       "0       0.000000e+00     40.026\n",
       "1       9.990000e-01     40.051\n",
       "2       1.999000e+00     39.988\n",
       "3       2.999000e+00     39.976\n",
       "4       3.999000e+00     39.964\n",
       "...              ...        ...\n",
       "460376  5.518128e+07     40.737\n",
       "460377  5.518128e+07     40.750\n",
       "460378  5.518128e+07     40.688\n",
       "460379  5.518128e+07     40.725\n",
       "460380  5.518128e+07     40.750\n",
       "\n",
       "[460381 rows x 2 columns]"
      ]
     },
     "execution_count": 2,
     "metadata": {},
     "output_type": "execute_result"
    }
   ],
   "source": [
    "from src.preprocessing.battery_data import BatteryData\n",
    "oxford_data = BatteryData.load('data/preprocessed/oxford/OX_1-1_pouch_LCO_40C_0-100_2-1.84C_a_timeseries.pkl')\n",
    "oxford_data.print_description()\n",
    "ts = next(t for t in oxford_data.timeseries_data)\n",
    "ts.display()"
   ]
  },
  {
   "cell_type": "code",
   "execution_count": 3,
   "metadata": {},
   "outputs": [
    {
     "name": "stdout",
     "output_type": "stream",
     "text": [
      "**************description of battery cell SNL_LFP_Graphite_10Ah_100SOC_b**************\n",
      "cell_id: SNL_LFP_Graphite_10Ah_100SOC_b\n",
      "organization: oakridge\n",
      "timeseries_data: [<src.preprocessing.battery_data.TimeseriesData object at 0x3379ba8d0>, <src.preprocessing.battery_data.TimeseriesData object at 0x176685c70>, <src.preprocessing.battery_data.TimeseriesData object at 0x176685b20>, <src.preprocessing.battery_data.TimeseriesData object at 0x10a1ae330>, <src.preprocessing.battery_data.TimeseriesData object at 0x173c7cbc0>, <src.preprocessing.battery_data.TimeseriesData object at 0x173c7f710>]\n",
      "is_healthy: False\n",
      "state_of_charge: 100\n",
      "battery_type: (None,)\n",
      "anode_material: graphite\n",
      "cathode_material: LFP\n",
      "nominal_capacity_in_Ah: 10.0\n",
      "form_factor: cylindrical_18650\n"
     ]
    },
    {
     "data": {
      "text/html": [
       "<div>\n",
       "<style scoped>\n",
       "    .dataframe tbody tr th:only-of-type {\n",
       "        vertical-align: middle;\n",
       "    }\n",
       "\n",
       "    .dataframe tbody tr th {\n",
       "        vertical-align: top;\n",
       "    }\n",
       "\n",
       "    .dataframe thead th {\n",
       "        text-align: right;\n",
       "    }\n",
       "</style>\n",
       "<table border=\"1\" class=\"dataframe\">\n",
       "  <thead>\n",
       "    <tr style=\"text-align: right;\">\n",
       "      <th></th>\n",
       "      <th>Time (s)</th>\n",
       "      <th>Temp (°C)</th>\n",
       "    </tr>\n",
       "  </thead>\n",
       "  <tbody>\n",
       "    <tr>\n",
       "      <th>0</th>\n",
       "      <td>0.000000</td>\n",
       "      <td>22.364101</td>\n",
       "    </tr>\n",
       "    <tr>\n",
       "      <th>1</th>\n",
       "      <td>0.099609</td>\n",
       "      <td>22.358707</td>\n",
       "    </tr>\n",
       "    <tr>\n",
       "      <th>2</th>\n",
       "      <td>0.199219</td>\n",
       "      <td>22.365358</td>\n",
       "    </tr>\n",
       "    <tr>\n",
       "      <th>3</th>\n",
       "      <td>0.298828</td>\n",
       "      <td>22.381090</td>\n",
       "    </tr>\n",
       "    <tr>\n",
       "      <th>4</th>\n",
       "      <td>0.398438</td>\n",
       "      <td>22.315783</td>\n",
       "    </tr>\n",
       "    <tr>\n",
       "      <th>...</th>\n",
       "      <td>...</td>\n",
       "      <td>...</td>\n",
       "    </tr>\n",
       "    <tr>\n",
       "      <th>38712</th>\n",
       "      <td>3856.078125</td>\n",
       "      <td>29.106949</td>\n",
       "    </tr>\n",
       "    <tr>\n",
       "      <th>38713</th>\n",
       "      <td>3856.177734</td>\n",
       "      <td>29.090010</td>\n",
       "    </tr>\n",
       "    <tr>\n",
       "      <th>38714</th>\n",
       "      <td>3856.277344</td>\n",
       "      <td>29.108253</td>\n",
       "    </tr>\n",
       "    <tr>\n",
       "      <th>38715</th>\n",
       "      <td>3856.376953</td>\n",
       "      <td>29.104151</td>\n",
       "    </tr>\n",
       "    <tr>\n",
       "      <th>38716</th>\n",
       "      <td>3856.465820</td>\n",
       "      <td>29.110058</td>\n",
       "    </tr>\n",
       "  </tbody>\n",
       "</table>\n",
       "<p>38717 rows × 2 columns</p>\n",
       "</div>"
      ],
      "text/plain": [
       "          Time (s)  Temp (°C)\n",
       "0         0.000000  22.364101\n",
       "1         0.099609  22.358707\n",
       "2         0.199219  22.365358\n",
       "3         0.298828  22.381090\n",
       "4         0.398438  22.315783\n",
       "...            ...        ...\n",
       "38712  3856.078125  29.106949\n",
       "38713  3856.177734  29.090010\n",
       "38714  3856.277344  29.108253\n",
       "38715  3856.376953  29.104151\n",
       "38716  3856.465820  29.110058\n",
       "\n",
       "[38717 rows x 2 columns]"
      ]
     },
     "execution_count": 3,
     "metadata": {},
     "output_type": "execute_result"
    }
   ],
   "source": [
    "from src.preprocessing.battery_data import BatteryData\n",
    "filename = 'data/preprocessed/oakridge/SNL_LFP_Graphite_10Ah_100SOC_b.pkl'\n",
    "data = BatteryData.load(filename)\n",
    "data.print_description()\n",
    "ts = next(t for t in data.timeseries_data)\n",
    "ts.display()"
   ]
  }
 ],
 "metadata": {
  "kernelspec": {
   "display_name": "Python 3",
   "language": "python",
   "name": "python3"
  },
  "language_info": {
   "codemirror_mode": {
    "name": "ipython",
    "version": 3
   },
   "file_extension": ".py",
   "mimetype": "text/x-python",
   "name": "python",
   "nbconvert_exporter": "python",
   "pygments_lexer": "ipython3",
   "version": "3.12.6"
  }
 },
 "nbformat": 4,
 "nbformat_minor": 2
}

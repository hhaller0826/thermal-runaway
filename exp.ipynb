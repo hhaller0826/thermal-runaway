{
 "cells": [
  {
   "cell_type": "code",
   "execution_count": 1,
   "metadata": {},
   "outputs": [
    {
     "name": "stderr",
     "output_type": "stream",
     "text": [
      "/Users/Hanita/Library/Python/3.12/lib/python/site-packages/tqdm/auto.py:21: TqdmWarning: IProgress not found. Please update jupyter and ipywidgets. See https://ipywidgets.readthedocs.io/en/stable/user_install.html\n",
      "  from .autonotebook import tqdm as notebook_tqdm\n",
      "Processing Oxford cells: 100%|██████████| 8/8 [00:01<00:00,  5.41it/s]\n"
     ]
    },
    {
     "data": {
      "text/plain": [
       "(8, 0)"
      ]
     },
     "execution_count": 1,
     "metadata": {},
     "output_type": "execute_result"
    }
   ],
   "source": [
    "from src.preprocessing.preprocess_HealthyArchive import OXPreprocessor\n",
    "\n",
    "OXPreprocessor().process()"
   ]
  },
  {
   "cell_type": "code",
   "execution_count": 3,
   "metadata": {},
   "outputs": [
    {
     "name": "stdout",
     "output_type": "stream",
     "text": [
      "**************description of battery cell OX_1-1_pouch_LCO_40C_0-100_2-1.84C_a_timeseries**************\n",
      "cell_id: OX_1-1_pouch_LCO_40C_0-100_2-1.84C_a_timeseries\n",
      "organization: oxford\n",
      "timeseries_data: [<src.preprocessing.battery_data.TimeseriesData object at 0x121579ac0>]\n",
      "is_healthy: True\n",
      "battery_type: LCO\n",
      "anode_material: graphite\n",
      "cathode_material: LCO\n",
      "nominal_capacity_in_Ah: 0.72\n",
      "form_factor: pouch\n"
     ]
    }
   ],
   "source": [
    "from src.preprocessing.battery_data import BatteryData\n",
    "oxford_data = BatteryData.load('data/preprocessed/oxford/OX_1-1_pouch_LCO_40C_0-100_2-1.84C_a_timeseries.pkl')\n",
    "oxford_data.print_description()"
   ]
  },
  {
   "cell_type": "code",
   "execution_count": 6,
   "metadata": {},
   "outputs": [
    {
     "data": {
      "text/html": [
       "<div>\n",
       "<style scoped>\n",
       "    .dataframe tbody tr th:only-of-type {\n",
       "        vertical-align: middle;\n",
       "    }\n",
       "\n",
       "    .dataframe tbody tr th {\n",
       "        vertical-align: top;\n",
       "    }\n",
       "\n",
       "    .dataframe thead th {\n",
       "        text-align: right;\n",
       "    }\n",
       "</style>\n",
       "<table border=\"1\" class=\"dataframe\">\n",
       "  <thead>\n",
       "    <tr style=\"text-align: right;\">\n",
       "      <th></th>\n",
       "      <th>Time</th>\n",
       "      <th>Temp (°C)</th>\n",
       "    </tr>\n",
       "  </thead>\n",
       "  <tbody>\n",
       "    <tr>\n",
       "      <th>0</th>\n",
       "      <td>0.000000e+00</td>\n",
       "      <td>40.026</td>\n",
       "    </tr>\n",
       "    <tr>\n",
       "      <th>1</th>\n",
       "      <td>9.990000e-01</td>\n",
       "      <td>40.051</td>\n",
       "    </tr>\n",
       "    <tr>\n",
       "      <th>2</th>\n",
       "      <td>1.999000e+00</td>\n",
       "      <td>39.988</td>\n",
       "    </tr>\n",
       "    <tr>\n",
       "      <th>3</th>\n",
       "      <td>2.999000e+00</td>\n",
       "      <td>39.976</td>\n",
       "    </tr>\n",
       "    <tr>\n",
       "      <th>4</th>\n",
       "      <td>3.999000e+00</td>\n",
       "      <td>39.964</td>\n",
       "    </tr>\n",
       "    <tr>\n",
       "      <th>...</th>\n",
       "      <td>...</td>\n",
       "      <td>...</td>\n",
       "    </tr>\n",
       "    <tr>\n",
       "      <th>460376</th>\n",
       "      <td>5.518128e+07</td>\n",
       "      <td>40.737</td>\n",
       "    </tr>\n",
       "    <tr>\n",
       "      <th>460377</th>\n",
       "      <td>5.518128e+07</td>\n",
       "      <td>40.750</td>\n",
       "    </tr>\n",
       "    <tr>\n",
       "      <th>460378</th>\n",
       "      <td>5.518128e+07</td>\n",
       "      <td>40.688</td>\n",
       "    </tr>\n",
       "    <tr>\n",
       "      <th>460379</th>\n",
       "      <td>5.518128e+07</td>\n",
       "      <td>40.725</td>\n",
       "    </tr>\n",
       "    <tr>\n",
       "      <th>460380</th>\n",
       "      <td>5.518128e+07</td>\n",
       "      <td>40.750</td>\n",
       "    </tr>\n",
       "  </tbody>\n",
       "</table>\n",
       "<p>460381 rows × 2 columns</p>\n",
       "</div>"
      ],
      "text/plain": [
       "                Time  Temp (°C)\n",
       "0       0.000000e+00     40.026\n",
       "1       9.990000e-01     40.051\n",
       "2       1.999000e+00     39.988\n",
       "3       2.999000e+00     39.976\n",
       "4       3.999000e+00     39.964\n",
       "...              ...        ...\n",
       "460376  5.518128e+07     40.737\n",
       "460377  5.518128e+07     40.750\n",
       "460378  5.518128e+07     40.688\n",
       "460379  5.518128e+07     40.725\n",
       "460380  5.518128e+07     40.750\n",
       "\n",
       "[460381 rows x 2 columns]"
      ]
     },
     "execution_count": 6,
     "metadata": {},
     "output_type": "execute_result"
    }
   ],
   "source": [
    "ts = next(t for t in oxford_data.timeseries_data)\n",
    "ts.display()"
   ]
  }
 ],
 "metadata": {
  "kernelspec": {
   "display_name": "Python 3",
   "language": "python",
   "name": "python3"
  },
  "language_info": {
   "codemirror_mode": {
    "name": "ipython",
    "version": 3
   },
   "file_extension": ".py",
   "mimetype": "text/x-python",
   "name": "python",
   "nbconvert_exporter": "python",
   "pygments_lexer": "ipython3",
   "version": "3.12.6"
  }
 },
 "nbformat": 4,
 "nbformat_minor": 2
}

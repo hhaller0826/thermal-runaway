{
 "cells": [
  {
   "cell_type": "code",
   "execution_count": 1,
   "metadata": {},
   "outputs": [],
   "source": [
    "from src.data import *\n",
    "from src.config import config\n",
    "from src.plotting import *\n",
    "import src.classifiers.classical as classical\n",
    "import src.classifiers.ensemble as ensemble\n",
    "\n",
    "os.makedirs(config.RESULTS_DIR, exist_ok=True)\n",
    "\n",
    "summary, confusion_matrices, roc_curves = [], {}, {}\n",
    "train_auc, test_auc = {}, {}\n",
    "best_params_all = {}"
   ]
  },
  {
   "cell_type": "code",
   "execution_count": null,
   "metadata": {},
   "outputs": [],
   "source": [
    "train_dat, test_dat = processed_data()\n",
    "models_to_run = classical.CLASSICAL_MODELS + classical.DL_MODELS\n",
    "\n",
    "for model in models_to_run:\n",
    "    df = classical.classify(model, train_dat, test_dat, confusion_matrices, roc_curves, train_auc, test_auc, best_params_all)\n",
    "    summary.append(df)\n",
    "\n",
    "for model in ensemble.ENSEMBLE_MODELS:\n",
    "    df = ensemble.classify(models_to_run, model, train_dat, test_dat, confusion_matrices, roc_curves, train_auc, test_auc, best_params_all)\n",
    "    summary.append(df)"
   ]
  },
  {
   "cell_type": "code",
   "execution_count": null,
   "metadata": {},
   "outputs": [],
   "source": [
    "#Save metrics and figures\n",
    "pd.concat(summary).to_csv(os.path.join(config.RESULTS_DIR, \"summary_metrics.csv\"), index=False)\n",
    "save_all_confusion_matrices(confusion_matrices)\n",
    "save_all_roc_curves(roc_curves)\n",
    "save_auc_comparison(train_auc, test_auc)\n",
    "print(\"\\n✅ Finished! All metrics and figures saved to:\", config.RESULTS_DIR)"
   ]
  },
  {
   "cell_type": "code",
   "execution_count": null,
   "metadata": {},
   "outputs": [],
   "source": [
    "#Plotting Confusion Matrices\n",
    "plot_confusion_matrices(confusion_matrices)\n",
    "\n",
    "#ROC Curves\n",
    "plot_roc_curves(roc_curves)\n",
    "\n",
    "#Train vs Test AUC Comparison\n",
    "auc_comparison(train_auc, test_auc)\n"
   ]
  }
 ],
 "metadata": {
  "kernelspec": {
   "display_name": "Python 3",
   "language": "python",
   "name": "python3"
  },
  "language_info": {
   "codemirror_mode": {
    "name": "ipython",
    "version": 3
   },
   "file_extension": ".py",
   "mimetype": "text/x-python",
   "name": "python",
   "nbconvert_exporter": "python",
   "pygments_lexer": "ipython3",
   "version": "3.12.6"
  }
 },
 "nbformat": 4,
 "nbformat_minor": 2
}
